{
 "cells": [
  {
   "cell_type": "code",
   "execution_count": null,
   "metadata": {
    "collapsed": false
   },
   "outputs": [],
   "source": [
    "#### RUN ME PLEASE ####\n",
    "\"\"\"Use 'Shift + Enter' when focused on this cell.\"\"\"\n",
    "import numpy as np"
   ]
  },
  {
   "cell_type": "markdown",
   "metadata": {},
   "source": [
    "# Python for DS Practice\n",
    "## Data Science for Kaggle Decal Spring 2017\n",
    "\n",
    "\n",
    "Welcome to the first pset. This should be a really simple intro to numpy. We are structuring it to get you familiar with the tools we will be using for this class. Make sure that you run the first cell before any others otherwise you'll get errors for not including the numpy package.\n",
    "\n",
    "If you have trouble with any question, first consult any old notebooks. Especially those from class today.\n",
    "Then, ask [Piazza](https://piazza.com/class/iy117z6nv30626?cid=9)! We'll try to get back to you asap through there. "
   ]
  },
  {
   "cell_type": "markdown",
   "metadata": {},
   "source": [
    "# Problem 1\n",
    "Fill `fun_array` with values 1-100 using a numpy method. Use google to find the answer."
   ]
  },
  {
   "cell_type": "code",
   "execution_count": null,
   "metadata": {
    "collapsed": false
   },
   "outputs": [],
   "source": [
    "fun_array = ## YOUR CODE HERE"
   ]
  },
  {
   "cell_type": "markdown",
   "metadata": {},
   "source": [
    "# Problem 2 \n",
    "Take the square root of each element in fun_array using numpy commands. Don't use a `for` loop"
   ]
  },
  {
   "cell_type": "code",
   "execution_count": null,
   "metadata": {
    "collapsed": false
   },
   "outputs": [],
   "source": [
    "### YOUR CODE HERE\n"
   ]
  },
  {
   "cell_type": "markdown",
   "metadata": {},
   "source": [
    "# Problem 3\n",
    "Fill this array with 100 random values. Your answer should use only a single method call like `np.<method>()`"
   ]
  },
  {
   "cell_type": "code",
   "execution_count": null,
   "metadata": {
    "collapsed": true
   },
   "outputs": [],
   "source": [
    "random_array = ## YOUR CODE HERE"
   ]
  },
  {
   "cell_type": "markdown",
   "metadata": {},
   "source": [
    "# Problem 4\n",
    "Multiply each element in `random_array` by `5`. Do not use a `for` loop."
   ]
  },
  {
   "cell_type": "code",
   "execution_count": null,
   "metadata": {
    "collapsed": false
   },
   "outputs": [],
   "source": [
    "random_arrayx5 = ## YOUR CODE HERE"
   ]
  },
  {
   "cell_type": "markdown",
   "metadata": {},
   "source": [
    "# Problem 5\n",
    "Multiply matrix $X$ and multiply with $\\vec{y}$ using numpy commands. Should be only 1 line."
   ]
  },
  {
   "cell_type": "code",
   "execution_count": null,
   "metadata": {
    "collapsed": false
   },
   "outputs": [],
   "source": [
    "X = np.array([[1,2,3],[4,5,6],[7,8,9]])\n",
    "y = np.array([1,2,3])\n",
    "### YOUR CODE BELOW ###\n",
    "### END YOUR CODE ###\n"
   ]
  },
  {
   "cell_type": "markdown",
   "metadata": {},
   "source": [
    "# Problem 6\n",
    "Get the shape of `X` and output it. Do it with and without a print() statement for full credit."
   ]
  },
  {
   "cell_type": "code",
   "execution_count": null,
   "metadata": {
    "collapsed": true
   },
   "outputs": [],
   "source": []
  },
  {
   "cell_type": "markdown",
   "metadata": {},
   "source": [
    "# Problem 7\n",
    "Fill in the missing code so that you can plot \n",
    "\n",
    "This is a very simple 2 line problem. You should read [the `matplotlib` documentation](http://matplotlib.org/users/pyplot_tutorial.html) regardless of how familiar you are with matplotlib. \n",
    "\n",
    "Alternatively, google how to plot a graph using matplotlib. You'll probably find an answer on stack overflow\n",
    "\n",
    "I almost always copy and past matplotlib code whenever I need to use it."
   ]
  },
  {
   "cell_type": "code",
   "execution_count": null,
   "metadata": {
    "collapsed": false
   },
   "outputs": [],
   "source": [
    "import matplotlib.pyplot as plt\n",
    "X = np.linspace(0, 5, 500) #np.arange(500)\n",
    "\n",
    "# These are just to represent actual training and testing \n",
    "training_accuracy = np.exp(-(X)) * np.exp(1.5) + 0.5\n",
    "testing_accuracy = (X - 2.4)**2 + 1\n",
    "\n",
    "### YOUR CODE BELOW ###\n",
    "### END YOUR CODE ###\n",
    "\n",
    "plt.title(\"Bias Variance\")\n",
    "plt.xlabel(\"Parameter Value \")\n",
    "plt.ylabel(\"Error\")\n",
    "plt.legend(labels=['Training Error','Testing Error'])\n",
    "axes = plt.gca()\n",
    "axes.set_ylim([0,5])"
   ]
  },
  {
   "cell_type": "markdown",
   "metadata": {},
   "source": [
    "# HOMEWORK SUBMISSION\n",
    "We will be submitting work through gradescope. You must make your submission in pdf format so that we can easily process them using gradescope question matching.\n",
    "## Saving the file as a pdf\n",
    "\n",
    "In the menu bar, you simply follow\n",
    "`File > Print Preview` \n",
    "Then print the webpage and Save as PDF. This differs per browser/OS so you may have to spend some time looking for this option to save. \n",
    "\n",
    "## Submitting\n",
    "Go to [gradescope.com](https://gradescope.com/), and click on the box  that says `Add a course`. Type in `9KPPBM` to the course enrollment spot and you should be good to go. If you are not enrolled in the course, we will remove you from gradescope so please only enroll if we have sent you a permission numer. \n",
    "\n",
    "When you are in the course, navigate to `Problem Set 1`. On the submission page, select upload and upload the pdf you just downloaded. You will be required to label your questions appropriately.\n"
   ]
  },
  {
   "cell_type": "code",
   "execution_count": null,
   "metadata": {
    "collapsed": true
   },
   "outputs": [],
   "source": []
  }
 ],
 "metadata": {
  "kernelspec": {
   "display_name": "Python 3",
   "language": "python",
   "name": "python3"
  },
  "language_info": {
   "codemirror_mode": {
    "name": "ipython",
    "version": 3
   },
   "file_extension": ".py",
   "mimetype": "text/x-python",
   "name": "python",
   "nbconvert_exporter": "python",
   "pygments_lexer": "ipython3",
   "version": "3.5.0"
  }
 },
 "nbformat": 4,
 "nbformat_minor": 0
}
