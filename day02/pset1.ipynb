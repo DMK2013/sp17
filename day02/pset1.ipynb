{
 "cells": [
  {
   "cell_type": "code",
   "execution_count": 3,
   "metadata": {
    "collapsed": false
   },
   "outputs": [],
   "source": [
    "#### RUN ME PLEASE ####\n",
    "\"\"\"Use 'Shift + Enter' when focused on this cell.\"\"\"\n",
    "import numpy as np"
   ]
  },
  {
   "cell_type": "markdown",
   "metadata": {},
   "source": [
    "# Python for DS Practice\n",
    "## Data Science for Kaggle Decal Spring 2017\n",
    "\n",
    "\n",
    "Welcome to the first pset. This should be a really simple intro to numpy. We are structuring it to get you familiar with the tools we will be using for this class. Make sure that you run the first cell before any others otherwise you'll get errors for not including the numpy package.\n",
    "\n",
    "If you have trouble with any question, first consult any old notebooks. Especially those from class today.\n",
    "Then, ask [Piazza](https://piazza.com/class/iy117z6nv30626?cid=9)! We'll try to get back to you asap through there. "
   ]
  },
  {
   "cell_type": "markdown",
   "metadata": {},
   "source": [
    "# Problem 1\n",
    "Fill `fun_array` with values 1-100 using a numpy method. Use google to find the answer."
   ]
  },
  {
   "cell_type": "code",
   "execution_count": 4,
   "metadata": {
    "collapsed": false
   },
   "outputs": [],
   "source": [
    "fun_array = np.arange(100)"
   ]
  },
  {
   "cell_type": "markdown",
   "metadata": {},
   "source": [
    "# Problem 2 \n",
    "Take the square root of each element in fun_array using numpy commands. Don't use a `for` loop"
   ]
  },
  {
   "cell_type": "code",
   "execution_count": 5,
   "metadata": {
    "collapsed": false
   },
   "outputs": [
    {
     "data": {
      "text/plain": [
       "array([ 0.        ,  1.        ,  1.41421356,  1.73205081,  2.        ,\n",
       "        2.23606798,  2.44948974,  2.64575131,  2.82842712,  3.        ,\n",
       "        3.16227766,  3.31662479,  3.46410162,  3.60555128,  3.74165739,\n",
       "        3.87298335,  4.        ,  4.12310563,  4.24264069,  4.35889894,\n",
       "        4.47213595,  4.58257569,  4.69041576,  4.79583152,  4.89897949,\n",
       "        5.        ,  5.09901951,  5.19615242,  5.29150262,  5.38516481,\n",
       "        5.47722558,  5.56776436,  5.65685425,  5.74456265,  5.83095189,\n",
       "        5.91607978,  6.        ,  6.08276253,  6.164414  ,  6.244998  ,\n",
       "        6.32455532,  6.40312424,  6.4807407 ,  6.55743852,  6.63324958,\n",
       "        6.70820393,  6.78232998,  6.8556546 ,  6.92820323,  7.        ,\n",
       "        7.07106781,  7.14142843,  7.21110255,  7.28010989,  7.34846923,\n",
       "        7.41619849,  7.48331477,  7.54983444,  7.61577311,  7.68114575,\n",
       "        7.74596669,  7.81024968,  7.87400787,  7.93725393,  8.        ,\n",
       "        8.06225775,  8.1240384 ,  8.18535277,  8.24621125,  8.30662386,\n",
       "        8.36660027,  8.42614977,  8.48528137,  8.54400375,  8.60232527,\n",
       "        8.66025404,  8.71779789,  8.77496439,  8.83176087,  8.88819442,\n",
       "        8.94427191,  9.        ,  9.05538514,  9.11043358,  9.16515139,\n",
       "        9.21954446,  9.2736185 ,  9.32737905,  9.38083152,  9.43398113,\n",
       "        9.48683298,  9.53939201,  9.59166305,  9.64365076,  9.69535971,\n",
       "        9.74679434,  9.79795897,  9.8488578 ,  9.89949494,  9.94987437])"
      ]
     },
     "execution_count": 5,
     "metadata": {},
     "output_type": "execute_result"
    }
   ],
   "source": [
    "### YOUR CODE HERE\n",
    "fun_array_sqrt = np.sqrt(fun_array)\n",
    "fun_array_sqrt"
   ]
  },
  {
   "cell_type": "markdown",
   "metadata": {},
   "source": [
    "# Problem 3\n",
    "Fill this array with 100 random values. Your answer should use only a single method call like `np.<method>()`"
   ]
  },
  {
   "cell_type": "code",
   "execution_count": 13,
   "metadata": {
    "collapsed": false
   },
   "outputs": [
    {
     "data": {
      "text/plain": [
       "array([ 5.32973746,  1.76380301,  4.52884635,  3.92003095,  7.05087311,\n",
       "        9.18357148,  5.21368855,  7.01844527,  9.771284  ,  8.05180266,\n",
       "        7.1001374 ,  5.59095331,  2.4161708 ,  2.6332005 ,  1.05539258,\n",
       "        9.09587952,  3.44038004,  7.47692959,  6.78904857,  9.94470107,\n",
       "        1.74744333,  7.42756931,  1.60628892,  4.28937335,  9.60697614,\n",
       "        4.67281947,  1.10442799,  6.97953011,  4.25241913,  2.40620601,\n",
       "        1.8079472 ,  4.6236214 ,  2.23159073,  9.99318988,  3.50194354,\n",
       "        2.0358931 ,  7.19423453,  4.27214693,  3.05456362,  6.42326362,\n",
       "        3.77679257,  1.7686791 ,  8.7249592 ,  5.53340641,  1.4767564 ,\n",
       "        6.08231925,  1.59391528,  4.32049016,  5.4026937 ,  8.17372381,\n",
       "        2.05535833,  4.58389787,  3.030709  ,  3.3820696 ,  1.68165815,\n",
       "        1.25127666,  6.7112826 ,  9.12049709,  8.52858956,  1.32120202,\n",
       "        7.56281588,  8.71196428,  8.63755627,  7.51675831,  4.9541587 ,\n",
       "        4.95038523,  4.78997102,  1.90277973,  7.34482208,  4.05716662,\n",
       "        3.77790516,  6.46488269,  4.03562839,  2.93029394,  5.91749685,\n",
       "        2.08436433,  5.0685593 ,  6.0174508 ,  1.44311505,  3.39188993,\n",
       "        5.8794357 ,  1.08834128,  3.4929734 ,  6.55775374,  1.0107026 ,\n",
       "        1.54017701,  5.93257372,  1.85436113,  3.93163276,  5.40036468,\n",
       "        3.18288965,  6.50114743,  8.97698634,  9.6680139 ,  3.77534938,\n",
       "        3.30952303,  9.80972731,  7.11219537,  8.61399095,  7.30712336])"
      ]
     },
     "execution_count": 13,
     "metadata": {},
     "output_type": "execute_result"
    }
   ],
   "source": [
    "random_array = np.random.uniform(10, size=100)\n",
    "random_array"
   ]
  },
  {
   "cell_type": "markdown",
   "metadata": {},
   "source": [
    "# Problem 4\n",
    "Multiply each element in `random_array` by `5`. Do not use a `for` loop."
   ]
  },
  {
   "cell_type": "code",
   "execution_count": 14,
   "metadata": {
    "collapsed": false
   },
   "outputs": [
    {
     "data": {
      "text/plain": [
       "array([ 26.64868729,   8.81901505,  22.64423173,  19.60015477,\n",
       "        35.25436556,  45.91785742,  26.06844275,  35.09222633,\n",
       "        48.85642   ,  40.2590133 ,  35.50068698,  27.95476657,\n",
       "        12.08085399,  13.16600249,   5.27696292,  45.4793976 ,\n",
       "        17.20190022,  37.38464793,  33.94524284,  49.72350533,\n",
       "         8.73721665,  37.13784657,   8.0314446 ,  21.44686677,\n",
       "        48.0348807 ,  23.36409737,   5.52213997,  34.89765053,\n",
       "        21.26209566,  12.03103007,   9.03973601,  23.11810699,\n",
       "        11.15795367,  49.96594939,  17.50971769,  10.1794655 ,\n",
       "        35.97117267,  21.36073467,  15.2728181 ,  32.11631811,\n",
       "        18.88396286,   8.84339551,  43.62479599,  27.66703207,\n",
       "         7.38378202,  30.41159625,   7.96957642,  21.60245082,\n",
       "        27.01346852,  40.86861904,  10.27679166,  22.91948936,\n",
       "        15.15354501,  16.91034799,   8.40829077,   6.25638332,\n",
       "        33.556413  ,  45.60248545,  42.6429478 ,   6.60601008,\n",
       "        37.81407942,  43.55982138,  43.18778135,  37.58379155,\n",
       "        24.77079348,  24.75192615,  23.94985509,   9.51389867,\n",
       "        36.7241104 ,  20.28583308,  18.88952578,  32.32441345,\n",
       "        20.17814195,  14.65146971,  29.58748426,  10.42182165,\n",
       "        25.34279648,  30.08725399,   7.21557526,  16.95944965,\n",
       "        29.3971785 ,   5.44170639,  17.46486699,  32.7887687 ,\n",
       "         5.05351302,   7.70088505,  29.66286861,   9.27180566,\n",
       "        19.65816379,  27.00182342,  15.91444825,  32.50573717,\n",
       "        44.88493168,  48.34006948,  18.87674691,  16.54761516,\n",
       "        49.04863656,  35.56097684,  43.06995474,  36.53561678])"
      ]
     },
     "execution_count": 14,
     "metadata": {},
     "output_type": "execute_result"
    }
   ],
   "source": [
    "random_arrayx5 = random_array * 5\n",
    "random_arrayx5"
   ]
  },
  {
   "cell_type": "markdown",
   "metadata": {},
   "source": [
    "# Problem 5\n",
    "Multiply matrix $X$ and multiply with $\\vec{y}$ using numpy commands. Should be only 1 line."
   ]
  },
  {
   "cell_type": "code",
   "execution_count": 19,
   "metadata": {
    "collapsed": false
   },
   "outputs": [
    {
     "data": {
      "text/plain": [
       "array([14, 32, 50])"
      ]
     },
     "execution_count": 19,
     "metadata": {},
     "output_type": "execute_result"
    }
   ],
   "source": [
    "X = np.array([[1,2,3],[4,5,6],[7,8,9]])\n",
    "y = np.array([1,2,3])\n",
    "np.dot(X, np.transpose(y))"
   ]
  },
  {
   "cell_type": "markdown",
   "metadata": {},
   "source": [
    "# Problem 6\n",
    "Get the shape of `X` and output it. Do it with and without a print() statement for full credit."
   ]
  },
  {
   "cell_type": "code",
   "execution_count": 20,
   "metadata": {
    "collapsed": false
   },
   "outputs": [
    {
     "data": {
      "text/plain": [
       "(3, 3)"
      ]
     },
     "execution_count": 20,
     "metadata": {},
     "output_type": "execute_result"
    }
   ],
   "source": [
    "np.shape(X)"
   ]
  },
  {
   "cell_type": "markdown",
   "metadata": {},
   "source": [
    "# Problem 7\n",
    "Fill in the missing code so that you can plot \n",
    "\n",
    "This is a very simple 2 line problem. You should read [the `matplotlib` documentation](http://matplotlib.org/users/pyplot_tutorial.html) regardless of how familiar you are with matplotlib. \n",
    "\n",
    "Alternatively, google how to plot a graph using matplotlib. You'll probably find an answer on stack overflow\n",
    "\n",
    "I almost always copy and past matplotlib code whenever I need to use it."
   ]
  },
  {
   "cell_type": "code",
   "execution_count": null,
   "metadata": {
    "collapsed": false
   },
   "outputs": [],
   "source": [
    "%matplotlib inline\n",
    "import matplotlib.pyplot as plt\n",
    "X = np.linspace(0, 5, 500) #np.arange(500)\n",
    "\n",
    "# These are just to represent actual training and testing \n",
    "training_accuracy = np.exp(-(X)) * np.exp(1.5) + 0.5\n",
    "testing_accuracy = (X - 2.4)**2 + 1\n",
    "\n",
    "### YOUR CODE BELOW ###\n",
    "### END YOUR CODE ###\n",
    "\n",
    "plt.title(\"Bias Variance\")\n",
    "plt.xlabel(\"Parameter Value \")\n",
    "plt.ylabel(\"Error\")\n",
    "plt.legend(labels=['Training Error','Testing Error'])\n",
    "axes = plt.gca()\n",
    "axes.set_ylim([0,5])"
   ]
  },
  {
   "cell_type": "markdown",
   "metadata": {},
   "source": [
    "# HOMEWORK SUBMISSION\n",
    "We will be submitting work through gradescope. You must make your submission in pdf format so that we can easily process them using gradescope question matching.\n",
    "## Saving the file as a pdf\n",
    "\n",
    "In the menu bar, you simply follow\n",
    "`File > Print Preview` \n",
    "Then print the webpage and Save as PDF. This differs per browser/OS so you may have to spend some time looking for this option to save. \n",
    "\n",
    "## Submitting\n",
    "Go to [gradescope.com](https://gradescope.com/), and click on the box  that says `Add a course`. Type in `9KPPBM` to the course enrollment spot and you should be good to go. If you are not enrolled in the course, we will remove you from gradescope so please only enroll if we have sent you a permission numer. \n",
    "\n",
    "When you are in the course, navigate to `Problem Set 1`. On the submission page, select upload and upload the pdf you just downloaded. You will be required to label your questions appropriately.\n"
   ]
  },
  {
   "cell_type": "code",
   "execution_count": null,
   "metadata": {
    "collapsed": true
   },
   "outputs": [],
   "source": []
  }
 ],
 "metadata": {
  "anaconda-cloud": {},
  "kernelspec": {
   "display_name": "Python [default]",
   "language": "python",
   "name": "python3"
  },
  "language_info": {
   "codemirror_mode": {
    "name": "ipython",
    "version": 3
   },
   "file_extension": ".py",
   "mimetype": "text/x-python",
   "name": "python",
   "nbconvert_exporter": "python",
   "pygments_lexer": "ipython3",
   "version": "3.5.2"
  }
 },
 "nbformat": 4,
 "nbformat_minor": 0
}
