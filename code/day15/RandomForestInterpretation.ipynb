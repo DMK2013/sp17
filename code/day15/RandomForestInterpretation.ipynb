{
 "cells": [
  {
   "cell_type": "markdown",
   "metadata": {},
   "source": [
    "# Random Forest Feature Importances"
   ]
  },
  {
   "cell_type": "code",
   "execution_count": 1,
   "metadata": {
    "collapsed": true
   },
   "outputs": [],
   "source": [
    "%matplotlib inline\n",
    "\n",
    "from pandas import DataFrame, Series\n",
    "import numpy as np\n",
    "import pandas as pd\n",
    "import matplotlib.pyplot as plt\n",
    "import statsmodels.api as sm\n",
    "from sklearn.ensemble import RandomForestClassifier\n",
    "from sklearn.cross_validation import train_test_split"
   ]
  },
  {
   "cell_type": "code",
   "execution_count": 2,
   "metadata": {
    "collapsed": true
   },
   "outputs": [],
   "source": [
    "#Read in Titanic Data\n",
    "titanic = pd.read_csv(\"../../datasets/titanic/train.csv\")\n",
    "\n",
    "titanic_only = pd.get_dummies(titanic,columns=['Sex','Pclass','Embarked'],drop_first=True)"
   ]
  },
  {
   "cell_type": "code",
   "execution_count": 3,
   "metadata": {
    "collapsed": true
   },
   "outputs": [],
   "source": [
    "#Drop columns we don't care about (yet) or have missing values (Models don't like missing values)\n",
    "titanic_only.drop(['PassengerId','Name','Ticket','Age','Cabin'],axis=1,inplace=True)"
   ]
  },
  {
   "cell_type": "code",
   "execution_count": 4,
   "metadata": {
    "collapsed": true
   },
   "outputs": [],
   "source": [
    "#Train Test Splitting\n",
    "local_train, local_test = train_test_split(titanic_only,test_size=0.2,random_state=123)\n",
    "local_train.shape\n",
    "local_test.shape\n",
    "\n",
    "local_train_y = local_train[\"Survived\"]\n",
    "local_train_x = local_train.drop([\"Survived\"],axis=1)\n",
    "local_test_y = local_test[\"Survived\"]\n",
    "local_test_x = local_test.drop(\"Survived\",axis=1)"
   ]
  },
  {
   "cell_type": "code",
   "execution_count": 5,
   "metadata": {
    "collapsed": false
   },
   "outputs": [
    {
     "data": {
      "text/plain": [
       "array([[ 0.76      ,  0.24      ],\n",
       "       [ 0.83550447,  0.16449553],\n",
       "       [ 0.98      ,  0.02      ],\n",
       "       [ 0.95416667,  0.04583333],\n",
       "       [ 0.80583333,  0.19416667],\n",
       "       [ 1.        ,  0.        ],\n",
       "       [ 0.03737879,  0.96262121],\n",
       "       [ 0.18700769,  0.81299231],\n",
       "       [ 0.73321429,  0.26678571],\n",
       "       [ 0.74      ,  0.26      ],\n",
       "       [ 0.84      ,  0.16      ],\n",
       "       [ 0.13875   ,  0.86125   ],\n",
       "       [ 0.01      ,  0.99      ],\n",
       "       [ 0.87912132,  0.12087868],\n",
       "       [ 0.01333333,  0.98666667],\n",
       "       [ 0.13      ,  0.87      ],\n",
       "       [ 0.        ,  1.        ],\n",
       "       [ 1.        ,  0.        ],\n",
       "       [ 0.81      ,  0.19      ],\n",
       "       [ 0.93833333,  0.06166667],\n",
       "       [ 0.49      ,  0.51      ],\n",
       "       [ 0.01      ,  0.99      ],\n",
       "       [ 0.81163728,  0.18836272],\n",
       "       [ 0.98      ,  0.02      ],\n",
       "       [ 0.99      ,  0.01      ],\n",
       "       [ 0.96      ,  0.04      ],\n",
       "       [ 1.        ,  0.        ],\n",
       "       [ 0.03      ,  0.97      ],\n",
       "       [ 1.        ,  0.        ],\n",
       "       [ 0.8411237 ,  0.1588763 ],\n",
       "       [ 0.96      ,  0.04      ],\n",
       "       [ 0.05      ,  0.95      ],\n",
       "       [ 0.81163728,  0.18836272],\n",
       "       [ 0.40712302,  0.59287698],\n",
       "       [ 0.33      ,  0.67      ],\n",
       "       [ 0.326     ,  0.674     ],\n",
       "       [ 0.96319444,  0.03680556],\n",
       "       [ 0.85509019,  0.14490981],\n",
       "       [ 0.22536057,  0.77463943],\n",
       "       [ 0.86      ,  0.14      ],\n",
       "       [ 0.19      ,  0.81      ],\n",
       "       [ 0.56      ,  0.44      ],\n",
       "       [ 0.488     ,  0.512     ],\n",
       "       [ 0.99      ,  0.01      ],\n",
       "       [ 0.99833333,  0.00166667],\n",
       "       [ 0.81163728,  0.18836272],\n",
       "       [ 0.02      ,  0.98      ],\n",
       "       [ 0.1525    ,  0.8475    ],\n",
       "       [ 0.99      ,  0.01      ],\n",
       "       [ 0.17201265,  0.82798735],\n",
       "       [ 0.09532468,  0.90467532],\n",
       "       [ 0.97      ,  0.03      ],\n",
       "       [ 1.        ,  0.        ],\n",
       "       [ 0.87912132,  0.12087868],\n",
       "       [ 0.81163728,  0.18836272],\n",
       "       [ 0.86761031,  0.13238969],\n",
       "       [ 0.99      ,  0.01      ],\n",
       "       [ 0.59788636,  0.40211364],\n",
       "       [ 0.93966667,  0.06033333],\n",
       "       [ 1.        ,  0.        ],\n",
       "       [ 0.01      ,  0.99      ],\n",
       "       [ 0.        ,  1.        ],\n",
       "       [ 0.13      ,  0.87      ],\n",
       "       [ 0.        ,  1.        ],\n",
       "       [ 0.99      ,  0.01      ],\n",
       "       [ 0.13      ,  0.87      ],\n",
       "       [ 0.81163728,  0.18836272],\n",
       "       [ 0.81163728,  0.18836272],\n",
       "       [ 0.40867857,  0.59132143],\n",
       "       [ 0.10222222,  0.89777778],\n",
       "       [ 0.        ,  1.        ],\n",
       "       [ 0.87912132,  0.12087868],\n",
       "       [ 0.46285714,  0.53714286],\n",
       "       [ 0.66      ,  0.34      ],\n",
       "       [ 0.85439177,  0.14560823],\n",
       "       [ 1.        ,  0.        ],\n",
       "       [ 0.98      ,  0.02      ],\n",
       "       [ 1.        ,  0.        ],\n",
       "       [ 0.03      ,  0.97      ],\n",
       "       [ 0.03      ,  0.97      ],\n",
       "       [ 0.02      ,  0.98      ],\n",
       "       [ 1.        ,  0.        ],\n",
       "       [ 0.93      ,  0.07      ],\n",
       "       [ 0.83550447,  0.16449553],\n",
       "       [ 1.        ,  0.        ],\n",
       "       [ 0.9448829 ,  0.0551171 ],\n",
       "       [ 0.39954762,  0.60045238],\n",
       "       [ 0.9349881 ,  0.0650119 ],\n",
       "       [ 0.58016667,  0.41983333],\n",
       "       [ 0.99      ,  0.01      ],\n",
       "       [ 0.99      ,  0.01      ],\n",
       "       [ 0.97      ,  0.03      ],\n",
       "       [ 0.97833333,  0.02166667],\n",
       "       [ 0.93      ,  0.07      ],\n",
       "       [ 0.56666667,  0.43333333],\n",
       "       [ 0.96319444,  0.03680556],\n",
       "       [ 0.01      ,  0.99      ],\n",
       "       [ 0.        ,  1.        ],\n",
       "       [ 1.        ,  0.        ],\n",
       "       [ 0.0325    ,  0.9675    ],\n",
       "       [ 0.99      ,  0.01      ],\n",
       "       [ 0.22      ,  0.78      ],\n",
       "       [ 0.44700114,  0.55299886],\n",
       "       [ 0.10733333,  0.89266667],\n",
       "       [ 0.8411237 ,  0.1588763 ],\n",
       "       [ 0.1525    ,  0.8475    ],\n",
       "       [ 0.99      ,  0.01      ],\n",
       "       [ 0.83550447,  0.16449553],\n",
       "       [ 0.87912132,  0.12087868],\n",
       "       [ 0.22536057,  0.77463943],\n",
       "       [ 0.786     ,  0.214     ],\n",
       "       [ 0.81833333,  0.18166667],\n",
       "       [ 0.16      ,  0.84      ],\n",
       "       [ 0.96      ,  0.04      ],\n",
       "       [ 0.85439177,  0.14560823],\n",
       "       [ 0.71114683,  0.28885317],\n",
       "       [ 0.44700114,  0.55299886],\n",
       "       [ 0.71114683,  0.28885317],\n",
       "       [ 0.85509019,  0.14490981],\n",
       "       [ 0.46733333,  0.53266667],\n",
       "       [ 1.        ,  0.        ],\n",
       "       [ 0.87912132,  0.12087868],\n",
       "       [ 0.0290947 ,  0.9709053 ],\n",
       "       [ 0.92376781,  0.07623219],\n",
       "       [ 1.        ,  0.        ],\n",
       "       [ 0.83135615,  0.16864385],\n",
       "       [ 0.68      ,  0.32      ],\n",
       "       [ 0.958     ,  0.042     ],\n",
       "       [ 0.03644522,  0.96355478],\n",
       "       [ 0.80727503,  0.19272497],\n",
       "       [ 0.03      ,  0.97      ],\n",
       "       [ 0.87912132,  0.12087868],\n",
       "       [ 0.96319444,  0.03680556],\n",
       "       [ 0.26221284,  0.73778716],\n",
       "       [ 0.11      ,  0.89      ],\n",
       "       [ 0.85439177,  0.14560823],\n",
       "       [ 0.06      ,  0.94      ],\n",
       "       [ 0.28      ,  0.72      ],\n",
       "       [ 0.87912132,  0.12087868],\n",
       "       [ 0.        ,  1.        ],\n",
       "       [ 0.8411237 ,  0.1588763 ],\n",
       "       [ 0.74566667,  0.25433333],\n",
       "       [ 0.81703896,  0.18296104],\n",
       "       [ 0.08      ,  0.92      ],\n",
       "       [ 0.13      ,  0.87      ],\n",
       "       [ 0.74244385,  0.25755615],\n",
       "       [ 0.945     ,  0.055     ],\n",
       "       [ 0.40712302,  0.59287698],\n",
       "       [ 1.        ,  0.        ],\n",
       "       [ 0.        ,  1.        ],\n",
       "       [ 0.3725    ,  0.6275    ],\n",
       "       [ 1.        ,  0.        ],\n",
       "       [ 0.10875   ,  0.89125   ],\n",
       "       [ 0.85439177,  0.14560823],\n",
       "       [ 0.02      ,  0.98      ],\n",
       "       [ 0.83550447,  0.16449553],\n",
       "       [ 0.03313889,  0.96686111],\n",
       "       [ 0.23166667,  0.76833333],\n",
       "       [ 0.22536057,  0.77463943],\n",
       "       [ 0.11      ,  0.89      ],\n",
       "       [ 0.22536057,  0.77463943],\n",
       "       [ 1.        ,  0.        ],\n",
       "       [ 0.3725    ,  0.6275    ],\n",
       "       [ 0.62      ,  0.38      ],\n",
       "       [ 1.        ,  0.        ],\n",
       "       [ 0.01      ,  0.99      ],\n",
       "       [ 0.12283333,  0.87716667],\n",
       "       [ 0.80727503,  0.19272497],\n",
       "       [ 0.25678766,  0.74321234],\n",
       "       [ 0.53      ,  0.47      ],\n",
       "       [ 1.        ,  0.        ],\n",
       "       [ 0.59016667,  0.40983333],\n",
       "       [ 0.97      ,  0.03      ],\n",
       "       [ 0.67      ,  0.33      ],\n",
       "       [ 0.96605882,  0.03394118],\n",
       "       [ 0.87912132,  0.12087868],\n",
       "       [ 0.74      ,  0.26      ],\n",
       "       [ 0.86761031,  0.13238969],\n",
       "       [ 0.81163728,  0.18836272]])"
      ]
     },
     "execution_count": 5,
     "metadata": {},
     "output_type": "execute_result"
    }
   ],
   "source": [
    "#The Random Forest Model\n",
    "clf = RandomForestClassifier(n_estimators=100)\n",
    "clf.fit(local_train_x,local_train_y)\n",
    "preds = clf.predict_proba(local_test_x)\n",
    "preds"
   ]
  },
  {
   "cell_type": "code",
   "execution_count": 6,
   "metadata": {
    "collapsed": false
   },
   "outputs": [
    {
     "data": {
      "text/plain": [
       "array([0, 1])"
      ]
     },
     "execution_count": 6,
     "metadata": {},
     "output_type": "execute_result"
    }
   ],
   "source": [
    "#Check order of classes\n",
    "clf.classes_"
   ]
  },
  {
   "cell_type": "code",
   "execution_count": 7,
   "metadata": {
    "collapsed": false
   },
   "outputs": [
    {
     "data": {
      "text/plain": [
       "(179, 2)"
      ]
     },
     "execution_count": 7,
     "metadata": {},
     "output_type": "execute_result"
    }
   ],
   "source": [
    "#Accuracy of Random Forest Model\n",
    "preds.shape"
   ]
  },
  {
   "cell_type": "code",
   "execution_count": 8,
   "metadata": {
    "collapsed": false
   },
   "outputs": [
    {
     "data": {
      "text/plain": [
       "0.82122905027932958"
      ]
     },
     "execution_count": 8,
     "metadata": {},
     "output_type": "execute_result"
    }
   ],
   "source": [
    "np.mean((preds[:,1] > 0.5) == local_test_y) #0.83798882681564246"
   ]
  },
  {
   "cell_type": "code",
   "execution_count": 9,
   "metadata": {
    "collapsed": false
   },
   "outputs": [
    {
     "data": {
      "text/plain": [
       "array(['Survived', 'SibSp', 'Parch', 'Fare', 'Sex_male', 'Pclass_2',\n",
       "       'Pclass_3', 'Embarked_Q', 'Embarked_S'], dtype=object)"
      ]
     },
     "execution_count": 9,
     "metadata": {},
     "output_type": "execute_result"
    }
   ],
   "source": [
    "#Feature Importances\n",
    "local_train.columns.values"
   ]
  },
  {
   "cell_type": "code",
   "execution_count": 10,
   "metadata": {
    "collapsed": false
   },
   "outputs": [
    {
     "data": {
      "text/plain": [
       "array([ 0.06778953,  0.06720892,  0.41188946,  0.31857608,  0.02003335,\n",
       "        0.073271  ,  0.01254265,  0.02868901])"
      ]
     },
     "execution_count": 10,
     "metadata": {},
     "output_type": "execute_result"
    }
   ],
   "source": [
    "clf.feature_importances_"
   ]
  },
  {
   "cell_type": "code",
   "execution_count": 11,
   "metadata": {
    "collapsed": false
   },
   "outputs": [
    {
     "data": {
      "text/plain": [
       "<matplotlib.axes._subplots.AxesSubplot at 0x1178c5978>"
      ]
     },
     "execution_count": 11,
     "metadata": {},
     "output_type": "execute_result"
    },
    {
     "data": {
      "image/png": "[encoded data removed]",
      "text/plain": [
       "<matplotlib.figure.Figure at 0x1178c55f8>"
      ]
     },
     "metadata": {},
     "output_type": "display_data"
    }
   ],
   "source": [
    "fimps = DataFrame({\"fimps\": clf.feature_importances_},index=local_train.columns.values[1:])\n",
    "fimps.plot(kind='bar')"
   ]
  },
  {
   "cell_type": "code",
   "execution_count": null,
   "metadata": {
    "collapsed": true
   },
   "outputs": [],
   "source": []
  }
 ],
 "metadata": {
  "kernelspec": {
   "display_name": "Python 3",
   "language": "python",
   "name": "python3"
  },
  "language_info": {
   "codemirror_mode": {
    "name": "ipython",
    "version": 3
   },
   "file_extension": ".py",
   "mimetype": "text/x-python",
   "name": "python",
   "nbconvert_exporter": "python",
   "pygments_lexer": "ipython3",
   "version": "3.5.2"
  }
 },
 "nbformat": 4,
 "nbformat_minor": 0
}
