{
 "cells": [
  {
   "cell_type": "code",
   "execution_count": null,
   "metadata": {
    "collapsed": true
   },
   "outputs": [],
   "source": [
    "from pandas import DataFrame, Series\n",
    "from sklearn.neighbors import KNeighborsClassifier\n",
    "import pandas as pd\n",
    "import numpy as np"
   ]
  },
  {
   "cell_type": "code",
   "execution_count": null,
   "metadata": {
    "collapsed": true
   },
   "outputs": [],
   "source": [
    "#APK Metric Function\n",
    "def apk(actual, predicted, k=3):\n",
    "    if len(predicted) > k:\n",
    "        predicted = predicted[:k]\n",
    "\n",
    "    score = 0.0\n",
    "    num_hits = 0.0\n",
    "\n",
    "    for i,p in enumerate(predicted):\n",
    "        if p in actual and p not in predicted[:i]:\n",
    "            num_hits += 1.0\n",
    "            score += num_hits / (i+1.0)\n",
    "\n",
    "    if not actual:\n",
    "        return 0.0\n",
    "\n",
    "    return score / min(len(actual), k)"
   ]
  },
  {
   "cell_type": "code",
   "execution_count": null,
   "metadata": {
    "collapsed": true
   },
   "outputs": [],
   "source": [
    "#Reading in Data\n",
    "train = pd.read_csv('train.csv')"
   ]
  },
  {
   "cell_type": "code",
   "execution_count": null,
   "metadata": {
    "collapsed": true
   },
   "outputs": [],
   "source": [
    "#Preprocessing time into date\n",
    "initial_date = np.datetime64('2014-01-01T01:01',   #Arbitrary decision\n",
    "                                 dtype='datetime64[m]') \n",
    "d_times = pd.DatetimeIndex(initial_date + np.timedelta64(int(mn), 'm') \n",
    "                           for mn in train.time.values)    "
   ]
  },
  {
   "cell_type": "code",
   "execution_count": null,
   "metadata": {
    "collapsed": true
   },
   "outputs": [],
   "source": [
    "#Creating our grid\n",
    "x_range = 0.5\n",
    "y_range = 0.25\n",
    "\n",
    "fw = [500, 1000] #feature weights\n",
    "x_weights = fw[0]\n",
    "y_weights = fw[1]\n",
    "\n",
    "xpoints = np.arange(0,x_weights*10,x_range*x_weights)\n",
    "xpoints = np.append(xpoints,x_weights*10+x_range*x_weights)\n",
    "ypoints = np.arange(0,y_weights*10,y_range*y_weights)\n",
    "ypoints = np.append(ypoints,y_weights*10+y_range)\n",
    "xs, ys = np.meshgrid(xpoints,ypoints)"
   ]
  },
  {
   "cell_type": "code",
   "execution_count": null,
   "metadata": {
    "collapsed": true
   },
   "outputs": [],
   "source": [
    "#Feature Engineering\n",
    "train['x'] = train['x'] * fw[0]\n",
    "train['y'] = train['y'] * fw[1]\n",
    "train['hour'] = d_times.hour \n",
    "train['weekday'] = d_times.weekday\n",
    "train['day'] = d_times.day\n",
    "train['month'] = d_times.month\n",
    "train['year'] = d_times.year"
   ]
  },
  {
   "cell_type": "code",
   "execution_count": null,
   "metadata": {
    "collapsed": true
   },
   "outputs": [],
   "source": [
    "#Train Test Split by Time\n",
    "split_t = 730000\n",
    "features = ['x','y','hour','day','weekday','month','year','accuracy','place_id']\n",
    "\n",
    "local_train = train[train.time < split_t][features]\n",
    "local_test = train[train.time >= split_t][features]"
   ]
  },
  {
   "cell_type": "code",
   "execution_count": null,
   "metadata": {
    "collapsed": false
   },
   "outputs": [],
   "source": [
    "#First, train on one grid\n",
    "score = 0.0\n",
    "total = 0\n",
    "cum_scores = []\n",
    "\n",
    "i = 0\n",
    "j = 0\n",
    "\n",
    "subset = local_train[(local_train.x >= xs[i][j]) & (local_train.x < xs[i][j+1]) & \\\n",
    "                     (local_train.y >= ys[i][j]) & (local_train.y < ys[i+1][j])]\n",
    "test_subset = local_test[(local_test.x >= xs[i][j]) & (local_test.x < xs[i][j+1]) & \\\n",
    "                         (local_test.y >= ys[i][j]) & (local_test.y < ys[i+1][j])]"
   ]
  },
  {
   "cell_type": "code",
   "execution_count": null,
   "metadata": {
    "collapsed": true
   },
   "outputs": [],
   "source": [
    "y = subset['place_id']\n",
    "clf = KNeighborsClassifier(n_neighbors=40)\n",
    "clf.fit(subset[features[:-1]], y)\n",
    "all_preds = clf.predict_proba(test_subset[features[:-1]])"
   ]
  },
  {
   "cell_type": "code",
   "execution_count": null,
   "metadata": {
    "collapsed": false
   },
   "outputs": [],
   "source": [
    "all_preds.shape"
   ]
  },
  {
   "cell_type": "code",
   "execution_count": null,
   "metadata": {
    "collapsed": false
   },
   "outputs": [],
   "source": [
    "for record in range(len(all_preds)):\n",
    "    top3_idx = all_preds[record].argsort()[-3:][::-1]\n",
    "    preds = clf.classes_[top3_idx]\n",
    "    apk_score = apk([test_subset.place_id.iloc[record]],preds,3)\n",
    "    score += apk_score\n",
    "    total += 1\n",
    "\n",
    "print(score/total)"
   ]
  },
  {
   "cell_type": "code",
   "execution_count": null,
   "metadata": {
    "collapsed": false
   },
   "outputs": [],
   "source": [
    "#Iterate through all grids\n",
    "score = 0.0\n",
    "total = 0\n",
    "\n",
    "for i in range(len(ypoints)-1):\n",
    "\tfor j in range(len(xpoints)-1):\n",
    "\t\tsubset = local_train[(local_train.x >= xs[i][j]) & (local_train.x < xs[i][j+1]) & \\\n",
    "\t\t\t\t\t   \t\t (local_train.y >= ys[i][j]) & (local_train.y < ys[i+1][j])]\n",
    "\t\ttest_subset = local_test[(local_test.x >= xs[i][j]) & (local_test.x < xs[i][j+1]) & \\\n",
    "\t\t\t\t\t\t   \t\t (local_test.y >= ys[i][j]) & (local_test.y < ys[i+1][j])]\n",
    "\t\tif len(test_subset)==0:\n",
    "\t\t\tprint('Moving on from j=%d' % j)\n",
    "\t\t\tcontinue\n",
    "\n",
    "\t\tif len(subset)==0:\n",
    "\t\t\tcontinue\n",
    "\n",
    "\t\ty = subset['place_id']\n",
    "\t\tclf = KNeighborsClassifier(n_neighbors=40)\n",
    "\t\tclf.fit(subset[features[:-1]], y)\n",
    "\t\tall_preds = clf.predict_proba(test_subset[features[:-1]])\n",
    "\n",
    "\t\tfor record in range(len(all_preds)):\n",
    "\t\t\ttop3_idx = all_preds[record].argsort()[-3:][::-1]\n",
    "\t\t\tpreds = clf.classes_[top3_idx]\n",
    "\t\t\tapk_score = apk([test_subset.place_id.iloc[record]],preds,3)\n",
    "\t\t\tscore += apk_score\n",
    "\t\t\ttotal += 1\n",
    "\t\tprint(j)\n",
    "\t\tprint(score/total)\n",
    "\tprint(i)"
   ]
  },
  {
   "cell_type": "code",
   "execution_count": null,
   "metadata": {
    "collapsed": true
   },
   "outputs": [],
   "source": []
  }
 ],
 "metadata": {
  "kernelspec": {
   "display_name": "Python 3",
   "language": "python",
   "name": "python3"
  },
  "language_info": {
   "codemirror_mode": {
    "name": "ipython",
    "version": 3
   },
   "file_extension": ".py",
   "mimetype": "text/x-python",
   "name": "python",
   "nbconvert_exporter": "python",
   "pygments_lexer": "ipython3",
   "version": "3.5.2"
  }
 },
 "nbformat": 4,
 "nbformat_minor": 0
}
