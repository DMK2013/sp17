{
 "cells": [
  {
   "cell_type": "code",
   "execution_count": null,
   "metadata": {
    "collapsed": true
   },
   "outputs": [],
   "source": [
    "import numpy as np\n",
    "import matplotlib.pyplot as plt\n",
    "from mpl_toolkits.mplot3d import Axes3D"
   ]
  },
  {
   "cell_type": "markdown",
   "metadata": {},
   "source": [
    "# K-means\n",
    "This notebook will cover the essential parts of the k-means algorithm. Particularly, we will explore a barebones implementation of k-means, then show you how to use the sklearn Kmeans package to do the same\n",
    "\n",
    "Adapted from Chris Piech's handout on kmeans\n",
    "\n",
    "[Source]( http://stanford.edu/~cpiech/cs221/handouts/kmeans.html)\n"
   ]
  },
  {
   "cell_type": "code",
   "execution_count": null,
   "metadata": {
    "collapsed": true
   },
   "outputs": [],
   "source": [
    "def getRandomCentroids(X, k):\n",
    "    \"\"\"Returns a k subset of random centroids to initialize the algorithm\"\"\"\n",
    "    # TODO FILL THIS IN "
   ]
  },
  {
   "cell_type": "code",
   "execution_count": null,
   "metadata": {
    "collapsed": true
   },
   "outputs": [],
   "source": [
    "def getLabels(points, centroids):\n",
    "    \"\"\"\n",
    "    For each element in the dataset, chose the closest centroid. \n",
    "    Make that centroid the element's label.\n",
    "    distances = np.linalg.norm(points - centroids[:,np.newaxis])\n",
    "    \n",
    "    Returns a label for each piece of data in the dataset. \n",
    "    \"\"\"\n",
    "    # TODO FILL THIS IN "
   ]
  },
  {
   "cell_type": "code",
   "execution_count": null,
   "metadata": {
    "collapsed": true
   },
   "outputs": [],
   "source": [
    "def newCentroids(points, closest, k):\n",
    "    \"\"\"Calculates the new k random clusters\n",
    "    Each centroid is the geometric mean of the points that\n",
    "    have that centroid's label. Important: If a centroid is empty (no points have\n",
    "    that centroid's label) you should randomly re-initialize it.\"\"\"\n",
    "    # TODO FILL THIS IN "
   ]
  },
  {
   "cell_type": "code",
   "execution_count": null,
   "metadata": {
    "collapsed": true
   },
   "outputs": [],
   "source": [
    "def shouldStop(oldCentroids, centroids, iterations):\n",
    "    \"\"\"Returns True or False if k-means is done. K-means terminates either\n",
    "    because it has run a maximum number of iterations OR the centroids\n",
    "    stop changing.\n",
    "    \"\"\"\n",
    "    if iterations > MAX_ITERATIONS: return True\n",
    "    return np.equal(oldCentroids, centroids).all()"
   ]
  },
  {
   "cell_type": "code",
   "execution_count": null,
   "metadata": {
    "collapsed": false
   },
   "outputs": [],
   "source": [
    "MAX_ITERATIONS = 10\n",
    "\n",
    "def kmeans(dataSet, k):\n",
    "    \"\"\"K-Means is an algorithm that takes in a dataset and a constant\n",
    "    k and returns k centroids (which define clusters of data in the\n",
    "    dataset which are similar to one another).\"\"\"\n",
    "    # Initialize centroids randomly\n",
    "    numFeatures = dataSet.shape[1]\n",
    "    centroids = # TODO Fill this in\n",
    "    \n",
    "    # Initialize book keeping vars.\n",
    "    iterations = 0\n",
    "    oldCentroids = None\n",
    "    \n",
    "    # Run the main k-means algorithm\n",
    "    while not shouldStop(oldCentroids, centroids, iterations):\n",
    "        # Save old centroids for convergence test. Book keeping.\n",
    "        # TODO Fill this in\n",
    "        \n",
    "        # Assign labels to each datapoint based on centroids\n",
    "        # TODO Fill this in\n",
    "        \n",
    "        # Assign centroids based on datapoint labels\n",
    "        # TODO Fill this in\n",
    "        \n",
    "        iterations += 1\n",
    "        \n",
    "    # We can get the labels too by calling getLabels(dataSet, centroids)\n",
    "    return centroids, labels"
   ]
  },
  {
   "cell_type": "markdown",
   "metadata": {},
   "source": [
    "Set up plotting. Copied from [sklearn kmeans example](http://scikit-learn.org/stable/auto_examples/cluster/plot_cluster_iris.html)"
   ]
  },
  {
   "cell_type": "code",
   "execution_count": null,
   "metadata": {
    "collapsed": true
   },
   "outputs": [],
   "source": [
    "def plotKmeans(points, labels):\n",
    "    \"\"\" Take in the datapoints and the labels for each point, then \n",
    "    plots index 0, 2, and 3 elements of the data vector in a 3d plot.\n",
    "    This is specifically engineered for the Iris dataset.\"\"\"\n",
    "    fig = plt.figure(1, figsize=(4, 3))\n",
    "    plt.clf()\n",
    "    ax = Axes3D(fig, rect=[0, 0, .95, 1], elev=48, azim=134)\n",
    "\n",
    "    plt.cla()\n",
    "#     est.fit(X)\n",
    "#     labels = est.labels_\n",
    "\n",
    "    ax.scatter(points[:, 3], points[:, 0], points[:, 2], c=labels.astype(np.float))\n",
    "\n",
    "    ax.w_xaxis.set_ticklabels([])\n",
    "    ax.w_yaxis.set_ticklabels([])\n",
    "    ax.w_zaxis.set_ticklabels([])\n",
    "    ax.set_xlabel('Petal width')\n",
    "    ax.set_ylabel('Sepal length')\n",
    "    ax.set_zlabel('Petal length')\n",
    "    plt.show()"
   ]
  },
  {
   "cell_type": "code",
   "execution_count": null,
   "metadata": {
    "collapsed": false
   },
   "outputs": [],
   "source": [
    "# load the dataset\n",
    "from sklearn import datasets\n",
    "# uncomment if you want a guaranteed non-local minima\n",
    "# np.random.seed(5)\n",
    "\n",
    "iris = datasets.load_iris()\n",
    "X = iris.data\n",
    "y = iris.target\n",
    "labels = # TODO fill this in"
   ]
  },
  {
   "cell_type": "code",
   "execution_count": null,
   "metadata": {
    "collapsed": false
   },
   "outputs": [],
   "source": [
    "plotKmeans(X, labels)"
   ]
  },
  {
   "cell_type": "markdown",
   "metadata": {
    "collapsed": true
   },
   "source": [
    "## The SKlearn way"
   ]
  },
  {
   "cell_type": "code",
   "execution_count": null,
   "metadata": {
    "collapsed": true
   },
   "outputs": [],
   "source": [
    "from sklearn.cluster import KMeans"
   ]
  },
  {
   "cell_type": "code",
   "execution_count": null,
   "metadata": {
    "collapsed": false
   },
   "outputs": [],
   "source": [
    "\n"
   ]
  }
 ],
 "metadata": {
  "kernelspec": {
   "display_name": "Python 3",
   "language": "python",
   "name": "python3"
  },
  "language_info": {
   "codemirror_mode": {
    "name": "ipython",
    "version": 3
   },
   "file_extension": ".py",
   "mimetype": "text/x-python",
   "name": "python",
   "nbconvert_exporter": "python",
   "pygments_lexer": "ipython3",
   "version": "3.5.2"
  }
 },
 "nbformat": 4,
 "nbformat_minor": 0
}
